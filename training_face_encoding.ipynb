{
 "cells": [
  {
   "cell_type": "markdown",
   "id": "6e41ea0f",
   "metadata": {},
   "source": [
    "# GITHUB\n"
   ]
  },
  {
   "cell_type": "markdown",
   "id": "6a4ca4b9",
   "metadata": {},
   "source": [
    "# Script to construct 128-d embeddings for the faces in the dataset. (Training)"
   ]
  },
  {
   "cell_type": "code",
   "execution_count": 1,
   "id": "a6c4230e",
   "metadata": {},
   "outputs": [],
   "source": [
    "import numpy as np\n",
    "import cv2 \n",
    "import imutils\n",
    "from imutils import paths\n",
    "import dlib\n",
    "import face_recognition as fr\n",
    "\n",
    "import os\n",
    "import pickle"
   ]
  },
  {
   "cell_type": "code",
   "execution_count": 2,
   "id": "82e8d557",
   "metadata": {},
   "outputs": [],
   "source": [
    "img_paths = list(paths.list_images(\"dataset\"))"
   ]
  },
  {
   "cell_type": "code",
   "execution_count": 3,
   "id": "018256e5",
   "metadata": {},
   "outputs": [],
   "source": [
    "# Initialize known-encodings and known names\n",
    "\n",
    "known_encodings = []\n",
    "known_names = []\n"
   ]
  },
  {
   "cell_type": "code",
   "execution_count": null,
   "id": "36b983a2",
   "metadata": {},
   "outputs": [],
   "source": [
    "#Loop through all paths | extract the names and train the images\n",
    "for i, path in enumerate(img_paths): \n",
    "    name = path.split('/')[-2] \n",
    "    \n",
    "    image = cv2.imread(path)\n",
    "    image_rgb = cv2.cvtColor(image, cv2.COLOR_BGR2RGB)\n",
    "    \n",
    "    detected_faces = fr.face_locations(image_rgb, model = 'hog') \n",
    "    \n",
    "    encodings = fr.face_encodings(image_rgb, detected_faces)\n",
    "   \n",
    "    for num in encodings: \n",
    "        known_encodings.append(num) \n",
    "        print(\"Trained:\", name)\n",
    "        known_names.append(name)      \n",
    "     \n",
    "    \n",
    "encoded_data = {\"encodings\": known_encodings, \"names\": known_names} \n",
    "    \n",
    "f = open('encodings.pickle', 'wb')\n",
    "    \n",
    "pickle.dump(encoded_data, f)\n",
    "f.close()\n",
    "print(\"TRAINING IS DONE\")    \n",
    "    "
   ]
  },
  {
   "cell_type": "markdown",
   "id": "e1b6c1b5",
   "metadata": {},
   "source": [
    "# THE END"
   ]
  }
 ],
 "metadata": {
  "kernelspec": {
   "display_name": "CV",
   "language": "python",
   "name": "cv"
  },
  "language_info": {
   "codemirror_mode": {
    "name": "ipython",
    "version": 3
   },
   "file_extension": ".py",
   "mimetype": "text/x-python",
   "name": "python",
   "nbconvert_exporter": "python",
   "pygments_lexer": "ipython3",
   "version": "3.8.8"
  }
 },
 "nbformat": 4,
 "nbformat_minor": 5
}

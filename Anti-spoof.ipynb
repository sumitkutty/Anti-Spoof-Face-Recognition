{
 "cells": [
  {
   "cell_type": "markdown",
   "id": "2cb3e52d",
   "metadata": {},
   "source": [
    "# Anti-Spoof Face Recognition System (FOR GITHUB)"
   ]
  },
  {
   "cell_type": "code",
   "execution_count": 1,
   "id": "a843922e",
   "metadata": {},
   "outputs": [],
   "source": [
    "import pickle\n",
    "import cv2\n",
    "from imutils.video import VideoStream, FileVideoStream\n",
    "import imutils\n",
    "from imutils import paths\n",
    "import face_recognition as fr\n",
    "from imutils import face_utils\n",
    "import dlib\n",
    "from scipy.spatial import distance as dist\n",
    "import numpy as np\n",
    "import time\n",
    "\n",
    "from collections import Counter"
   ]
  },
  {
   "cell_type": "markdown",
   "id": "c7e989c5",
   "metadata": {},
   "source": [
    "### Function to calculate eye-aspect ratio | Initiate variables | retrieve start and end indexes of  left and right eye"
   ]
  },
  {
   "cell_type": "code",
   "execution_count": 2,
   "id": "2fe4c742",
   "metadata": {},
   "outputs": [],
   "source": [
    "def eye_aspect_ratio(eye): \n",
    "    v1 = dist.euclidean(eye[1],eye[5])\n",
    "    v2  = dist.euclidean(eye[2],eye[4]) \n",
    "    h = dist.euclidean(eye[0],eye[3])\n",
    "    \n",
    "    return (v1+v2)/(2*h) \n",
    "\n",
    "#Initialize variables\n",
    "EAR_thresh = 0.3\n",
    "\n",
    "BLINK_CONSEC_FRAMES = 3\n",
    "\n",
    "blink_threshold = 5\n",
    "\n",
    "count = 0\n",
    "blinks = 0 \n",
    "\n",
    "#Initialize the Face Detector and Landmark Detector\n",
    "detector = dlib.get_frontal_face_detector()\n",
    "predictor = dlib.shape_predictor(\"shape_predictor_68_face_landmarks.dat\")\n",
    "\n",
    "\n",
    "from imutils.face_utils import FACIAL_LANDMARKS_IDXS as landmark_inds\n",
    "\n",
    "(lstart,lend) = landmark_inds['left_eye'] \n",
    "(rstart,rend) = landmark_inds['right_eye'] "
   ]
  },
  {
   "cell_type": "markdown",
   "id": "129e2771",
   "metadata": {},
   "source": [
    "### Function to convert rectangle object into coordinates-format that 'face_encodings' accepts."
   ]
  },
  {
   "cell_type": "code",
   "execution_count": 3,
   "id": "5a34c2c8",
   "metadata": {},
   "outputs": [],
   "source": [
    "def rect_to_list(rect):\n",
    "        x = rect.left()\n",
    "        y = rect.top()\n",
    "        r = rect.right()\n",
    "        b = rect.bottom()\n",
    "        return (y,r,b,x) "
   ]
  },
  {
   "cell_type": "code",
   "execution_count": 4,
   "id": "f5bef85e",
   "metadata": {},
   "outputs": [],
   "source": [
    "f = open('encodings.pickle', 'rb')\n",
    "encodings_file = pickle.load(f) \n",
    "f.close()"
   ]
  },
  {
   "cell_type": "markdown",
   "id": "7e52b4ea",
   "metadata": {},
   "source": [
    "### Recognize a face in a video"
   ]
  },
  {
   "cell_type": "code",
   "execution_count": 5,
   "id": "608c01cd",
   "metadata": {},
   "outputs": [],
   "source": [
    "vs = VideoStream(src=0).start()\n",
    "time.sleep(2.0)"
   ]
  },
  {
   "cell_type": "code",
   "execution_count": 6,
   "id": "23db5865",
   "metadata": {},
   "outputs": [],
   "source": [
    "while True: \n",
    "    frame = vs.read()\n",
    "    frame_fail = 0\n",
    "    \n",
    "    image_rgb = cv2.cvtColor(frame , cv2.COLOR_BGR2RGB)\n",
    "    image_rgb = imutils.resize(frame, height = frame.shape[0], width = frame.shape[1]) \n",
    "    \n",
    "    \n",
    "    dets = detector(image_rgb) \n",
    "    detected_faces = []\n",
    "    \n",
    "    for face in dets:\n",
    "        detected_faces.append(rect_to_list(face))\n",
    "    \n",
    "        \n",
    "    encodings = fr.face_encodings(image_rgb, detected_faces) \n",
    "    \n",
    "    \n",
    "    #For eyes:\n",
    "    for i, rect in enumerate(dets): \n",
    "        shape = predictor(image_rgb, rect) \n",
    "        shape = face_utils.shape_to_np(shape)\n",
    "        \n",
    "        left_eye = shape[lstart:lend] \n",
    "        right_eye = shape[rstart:rend] \n",
    "        left_EAR = eye_aspect_ratio(left_eye) \n",
    "        right_EAR = eye_aspect_ratio(right_eye)\n",
    "        \n",
    "        EAR = (left_EAR +right_EAR) / 2 \n",
    "        \n",
    "        #Draw a convex hull on top of the eyes \n",
    "        leftconvex = cv2.convexHull(left_eye)\n",
    "        rightconvex = cv2.convexHull(right_eye)\n",
    "        cv2.drawContours(frame, [leftconvex], -1, (0,255,0), 1)\n",
    "        cv2.drawContours(frame, [rightconvex], -1 , (0,255,0), 1)\n",
    "        \n",
    "        if EAR < EAR_thresh:\n",
    "            count += 1            \n",
    "            \n",
    "        else:\n",
    "            if count >= BLINK_CONSEC_FRAMES:  \n",
    "                blinks += 1\n",
    "            \n",
    "            count = 0 \n",
    "        \n",
    "        cv2.putText(frame, \"Blinks: {}\".format(blinks), (10,30), cv2.FONT_HERSHEY_SIMPLEX, 0.7, (0,0,255), 2)\n",
    "        \n",
    "    \n",
    "    \n",
    "    #Initialize name list to add each face\n",
    "    names = []\n",
    "    for encoding in encodings: \n",
    "        matches = fr.compare_faces(encodings_file['encodings'], encoding, tolerance = 0.4) \n",
    "        name  = \"\"\n",
    "    \n",
    "        if True in matches:\n",
    "            match_index = [i for (i,b) in enumerate(matches) if b] \n",
    "            counts = [] \n",
    "            \n",
    "            \n",
    "            for i in match_index:\n",
    "                counts.append(encodings_file['names'][i]) \n",
    "                \n",
    "            name = Counter(counts).most_common(1)[0][0] \n",
    "        names.append(name)\n",
    "    \n",
    "            \n",
    "    \n",
    "    for ((top,right,bottom, left), name) in zip(detected_faces,names):\n",
    "        cv2.rectangle(frame, (left,top), (right,bottom), (0,255,0), 2)\n",
    "        cv2.putText(frame, name, (left+15,top-6), cv2.FONT_HERSHEY_SIMPLEX, 2, (0,255,0), 2)\n",
    "    \n",
    "    \n",
    "    #Blink Threshold to grant access:\n",
    "    if blinks >= 5:\n",
    "        cv2.putText(frame, \"Access Granted\", (60,600), cv2.FONT_HERSHEY_SIMPLEX, 5, (0,0,0), 10)\n",
    "        cv2.imshow(\"Image\", frame)\n",
    "        cv2.waitKey(1)\n",
    "        time.sleep(2)\n",
    "        break\n",
    "            \n",
    "    \n",
    "        \n",
    "    \n",
    "    cv2.imshow(\"Image\", frame)\n",
    "    key = cv2.waitKey(1) & 0xFF\n",
    "    if key == ord('q'):\n",
    "        break\n",
    " \n",
    "\n",
    "cv2.destroyAllWindows()\n",
    "cv2.waitKey(1)\n",
    "vs.stop()\n",
    "\n",
    "\n"
   ]
  },
  {
   "cell_type": "markdown",
   "id": "e73d712e",
   "metadata": {},
   "source": [
    "# THE END\n"
   ]
  }
 ],
 "metadata": {
  "kernelspec": {
   "display_name": "facereg",
   "language": "python",
   "name": "facereg"
  },
  "language_info": {
   "codemirror_mode": {
    "name": "ipython",
    "version": 3
   },
   "file_extension": ".py",
   "mimetype": "text/x-python",
   "name": "python",
   "nbconvert_exporter": "python",
   "pygments_lexer": "ipython3",
   "version": "3.8.8"
  }
 },
 "nbformat": 4,
 "nbformat_minor": 5
}
